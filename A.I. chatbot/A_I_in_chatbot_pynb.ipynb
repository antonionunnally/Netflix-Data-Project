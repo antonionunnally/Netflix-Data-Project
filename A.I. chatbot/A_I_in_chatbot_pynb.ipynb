{
  "nbformat": 4,
  "nbformat_minor": 0,
  "metadata": {
    "colab": {
      "provenance": [],
      "authorship_tag": "ABX9TyO36FnpuX+9LVgRV9bNiYAR",
      "include_colab_link": true
    },
    "kernelspec": {
      "name": "python3",
      "display_name": "Python 3"
    },
    "language_info": {
      "name": "python"
    }
  },
  "cells": [
    {
      "cell_type": "markdown",
      "metadata": {
        "id": "view-in-github",
        "colab_type": "text"
      },
      "source": [
        "<a href=\"https://colab.research.google.com/github/antonionunnally/Netflix-Data-Project/blob/main/A.I.%20chatbot/A_I_in_chatbot_pynb.ipynb\" target=\"_parent\"><img src=\"https://colab.research.google.com/assets/colab-badge.svg\" alt=\"Open In Colab\"/></a>"
      ]
    },
    {
      "cell_type": "code",
      "execution_count": 1,
      "metadata": {
        "id": "YMIvbHM7mpA9"
      },
      "outputs": [],
      "source": [
        "import random"
      ]
    },
    {
      "cell_type": "code",
      "source": [
        "greetings = [\"Hello!\", \"What's up!?\", \"Howdy!\", \"Greetings!\", \"Peace!\" ]"
      ],
      "metadata": {
        "id": "aPB_WndpnGky"
      },
      "execution_count": 2,
      "outputs": []
    },
    {
      "cell_type": "code",
      "source": [
        "goodbyes = [\"Bye!\", \"Goodbye!\", \"Howdy!\", \"See you later!\", \"See you soon!\" ]"
      ],
      "metadata": {
        "id": "D1Ks3o6tsK6m"
      },
      "execution_count": 3,
      "outputs": []
    },
    {
      "cell_type": "code",
      "source": [
        "keywords = [\"music\", \"pet\", \"book\", \"game\" ]"
      ],
      "metadata": {
        "id": "MC9hHASdsae1"
      },
      "execution_count": 4,
      "outputs": []
    },
    {
      "cell_type": "code",
      "source": [
        "responses = [\"Music is so relaxing\", \"Dogs are man's best friend!\", \"I know about a lot of books\", \"I like to play video games\" ]"
      ],
      "metadata": {
        "id": "fsNWdulhstln"
      },
      "execution_count": 5,
      "outputs": []
    },
    {
      "cell_type": "code",
      "source": [
        "print (random.choice(greetings))"
      ],
      "metadata": {
        "colab": {
          "base_uri": "https://localhost:8080/"
        },
        "id": "dEwQ5_a0tL6d",
        "outputId": "612a425d-0ff9-4c2e-ae48-0def746ce273"
      },
      "execution_count": 6,
      "outputs": [
        {
          "output_type": "stream",
          "name": "stdout",
          "text": [
            "What's up!?\n"
          ]
        }
      ]
    },
    {
      "cell_type": "code",
      "source": [
        "user_input= input(\"Say something (or type Bye to quit): \")"
      ],
      "metadata": {
        "id": "Fol8wafNtVky"
      },
      "execution_count": null,
      "outputs": []
    },
    {
      "cell_type": "code",
      "source": [
        "user_input= user_input.lower()"
      ],
      "metadata": {
        "id": "EmPCtoYftrL6"
      },
      "execution_count": null,
      "outputs": []
    },
    {
      "cell_type": "code",
      "source": [
        "while (user_input != \"bye\") :\n",
        "  keyword_found = False"
      ],
      "metadata": {
        "id": "pznKE9_mt3tD"
      },
      "execution_count": null,
      "outputs": []
    },
    {
      "cell_type": "code",
      "source": [
        "for index in range(len(keywords)):\n",
        "  if (keywords[index] in user_input):\n",
        "    print(\"Bot: \"  + responses[index])\n",
        "    keyword_found = True\n",
        "  "
      ],
      "metadata": {
        "id": "NF1h-piBuYKV"
      },
      "execution_count": null,
      "outputs": []
    },
    {
      "cell_type": "code",
      "source": [
        "if(keyword_found == False):\n",
        "  new_keyword = input(\"I'm not sure how to respond. What keyword should I respond to? \")\n",
        "  keywords.append(new_keyword)\n",
        "  new_response = input(\"How should I respond to \" + new_keyword  + \"? \") \n",
        "  responses.append(new_keyword)"
      ],
      "metadata": {
        "id": "9NnvPVjRwH77"
      },
      "execution_count": null,
      "outputs": []
    },
    {
      "cell_type": "code",
      "source": [
        "print (random.choice(goodbyes))"
      ],
      "metadata": {
        "colab": {
          "base_uri": "https://localhost:8080/"
        },
        "id": "TnKCPuWOxrtT",
        "outputId": "e54c22d8-5242-4faa-eddf-6ef4a0c12565"
      },
      "execution_count": 11,
      "outputs": [
        {
          "output_type": "stream",
          "name": "stdout",
          "text": [
            "Bye!\n"
          ]
        }
      ]
    }
  ]
}